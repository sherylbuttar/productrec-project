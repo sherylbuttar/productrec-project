{
  "metadata": {
    "language_info": {
      "codemirror_mode": {
        "name": "python",
        "version": 3
      },
      "file_extension": ".py",
      "mimetype": "text/x-python",
      "name": "python",
      "nbconvert_exporter": "python",
      "pygments_lexer": "ipython3",
      "version": "3.8"
    },
    "kernelspec": {
      "name": "python",
      "display_name": "Python (Pyodide)",
      "language": "python"
    }
  },
  "nbformat_minor": 4,
  "nbformat": 4,
  "cells": [
    {
      "cell_type": "code",
      "source": "#import the reqired libraries\nfrom IPython.core.interactiveshell import InteractiveShell\nInteractiveShell.ast_node_interactivity = \"all\"\nimport numpy as np\nimport pandas as pd\nimport math\nimport json\nimport time\nimport matplotlib.pyplot as plt\nimport seaborn as sns\nfrom sklearn.metrics.pairwise import cosine_similarity\nfrom sklearn.model_selection import train_test_split\nfrom sklearn.neighbors import NearestNeighbors\nfrom sklearn.externals import joblib\nimport scipy.sparse\nfrom scipy.sparse import csr_matrix\nfrom scipy.sparse.linalg import svds\nimport warnings; warnings.simplefilter('ignore')\n%matplotlib inline\n\n# Import the dataset and give the column names\ncolumns=['userId', 'productId', 'ratings','timestamp']\nelectronics_df=pd.read_csv('ratings_Electronics.csv',names=columns)\n\nelectronics_df.head()\nelectronics_df.drop('timestamp',axis=1,inplace=True)\nelectronics_df.info()\n\n#Check the datatypes\nelectronics_df.dtypes\n\n#Taking subset of the dataset\nelectronics_df1=electronics_df.iloc[:50000,0:]\n\nelectronics_df1.info()\n\ncounts=electronics_df1.userId.value_counts()\nelectronics_df1_final=electronics_df1[electronics_df1.userId.isin(counts[counts>=15].index)]\nprint('Number of users who have rated 25 or more items =', len(electronics_df1_final))\nprint('Number of unique users in the final data = ', electronics_df1_final['userId'].nunique())\n\n\n\n# Import the dataset and give the column names\ncolumns=['userId', 'productId', 'ratings','timestamp']\nelectronics_df=pd.read_csv('ratings_Electronics.csv',names=columns)\n\nelectronics_df.head()\nelectronics_df.drop('timestamp',axis=1,inplace=True)\nelectronics_df.info()\n\n#Check the datatypes\nelectronics_df.dtypes\n\n#Taking subset of the dataset\nelectronics_df1=electronics_df.iloc[:50000,0:]\n\nelectronics_df1.info()\n\n#Sort the products on recommendation score \ntrain_data_sort = train_data_grouped.sort_values(['score', 'productId'], ascending = [0,1]) \n      \n#Generate a recommendation rank based upon score \ntrain_data_sort['rank'] = train_data_sort['score'].rank(ascending=0, method='first') \n          \n#Get the top 5 recommendations \npopularity_recommendations = train_data_sort.head(5) \npopularity_recommendations \n\nprint('Number of unique products in the final data = ', electronics_df1_final['userId'].nunique())",
      "metadata": {},
      "execution_count": null,
      "outputs": []
    }
  ]
}